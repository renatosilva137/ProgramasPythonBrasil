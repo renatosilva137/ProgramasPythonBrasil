{
 "cells": [
  {
   "cell_type": "markdown",
   "id": "611f38e2",
   "metadata": {},
   "source": [
    "# EstruturaSequencial"
   ]
  },
  {
   "cell_type": "markdown",
   "id": "41fcce77",
   "metadata": {},
   "source": [
    "01 - Faça um Programa que mostre a mensagem \"Alo mundo\" na tela"
   ]
  },
  {
   "cell_type": "code",
   "execution_count": null,
   "id": "635a211d",
   "metadata": {},
   "outputs": [],
   "source": [
    "print(\"Alo mundo\")"
   ]
  },
  {
   "cell_type": "markdown",
   "id": "82d632f6",
   "metadata": {},
   "source": [
    "02 - Faça um Programa que peça um número e então mostre a mensagem O número informado foi [número]"
   ]
  },
  {
   "cell_type": "code",
   "execution_count": null,
   "id": "c63e5f47",
   "metadata": {},
   "outputs": [],
   "source": [
    "num = float(input('Informe o número: '))\n",
    "print(f'O número informado foi {num}')"
   ]
  },
  {
   "cell_type": "markdown",
   "id": "98c0f401",
   "metadata": {},
   "source": [
    "03 - Faça um Programa que peça dois números e imprima a soma"
   ]
  },
  {
   "cell_type": "code",
   "execution_count": null,
   "id": "68c3457d",
   "metadata": {},
   "outputs": [],
   "source": [
    "num1 = float(input('Informe o primeiro número: '))\n",
    "num2 = float(input('Informe o segundo número: '))\n",
    "\n",
    "soma = num1 + num2\n",
    "\n",
    "print(f'A soma dos números informados é {soma}')"
   ]
  },
  {
   "cell_type": "markdown",
   "id": "c8659a49",
   "metadata": {},
   "source": [
    "04 - Faça um Programa que peça as 4 notas bimestrais e mostre a média."
   ]
  },
  {
   "cell_type": "code",
   "execution_count": null,
   "id": "24f9110d",
   "metadata": {},
   "outputs": [],
   "source": [
    "nota1 = float(input('Informe a primeira nota: '))\n",
    "nota2 = float(input('Informe a segunda nota: '))\n",
    "nota3 = float(input('Informe a terceira nota: '))\n",
    "nota4 = float(input('Informa a quarta nota: '))\n",
    "\n",
    "mean = (nota1 + nota2 + nota3 + nota4)/4\n",
    "\n",
    "print(f'Sua média anual é {mean:.2f}')"
   ]
  },
  {
   "cell_type": "markdown",
   "id": "4b4f9107",
   "metadata": {},
   "source": [
    "05 - Faça um Programa que converta metros para centímetros"
   ]
  },
  {
   "cell_type": "code",
   "execution_count": null,
   "id": "82ef41d4",
   "metadata": {},
   "outputs": [],
   "source": [
    "metros = float(input('Informe um comprimento em metros: '))\n",
    "centimetros = metros * 100\n",
    "\n",
    "print(f'A medida de {metros}m corresponde a {centimetros:.2f}cm')"
   ]
  },
  {
   "cell_type": "markdown",
   "id": "acde5053",
   "metadata": {},
   "source": [
    "06 - Faça um Programa que peça o raio de um círculo, calcule e mostre sua área."
   ]
  },
  {
   "cell_type": "code",
   "execution_count": null,
   "id": "4b8b4072",
   "metadata": {},
   "outputs": [],
   "source": [
    "raio = float(input('Informe o raio do círculo: '))\n",
    "area = 3.14 * raio**2\n",
    "\n",
    "print(f'A área A de um círculo de raio {raio} é A = {area:.2f}')"
   ]
  },
  {
   "cell_type": "markdown",
   "id": "e84b8c0d",
   "metadata": {},
   "source": [
    "07 - Faça um Programa que calcule a área de um quadrado, em seguida mostre o dobro desta área para o usuário."
   ]
  },
  {
   "cell_type": "code",
   "execution_count": null,
   "id": "2019cdcc",
   "metadata": {},
   "outputs": [],
   "source": [
    "lado = float(input('Informe a medida do lado do quadrado: '))\n",
    "area = lado**2\n",
    "dobroArea = 2 * area\n",
    "\n",
    "print(f'O dobro da área A do quadrado de lado {lado} é 2A = {dobroArea}')\n"
   ]
  },
  {
   "cell_type": "markdown",
   "id": "a8e0ec51",
   "metadata": {},
   "source": [
    "08 - Faça um Programa que pergunte quanto você ganha por hora e o número de horas trabalhadas no mês. Calcule e mostre o total do seu salário no referido mês."
   ]
  },
  {
   "cell_type": "code",
   "execution_count": null,
   "id": "89ea14db",
   "metadata": {},
   "outputs": [],
   "source": [
    "ValorHora = float(input('Informe o valor que você deseja ganhar por hora: '))\n",
    "TotalHoras = float(input('Informe o total de horas trabalhadas neste mês: '))\n",
    "\n",
    "salario = ValorHora*TotalHoras\n",
    "\n",
    "print(f'O seu salário este mês será de R${salario:.2f}')"
   ]
  },
  {
   "cell_type": "markdown",
   "id": "a817806e",
   "metadata": {},
   "source": [
    "09 - Faça um Programa que peça a temperatura em graus Fahrenheit, transforme e mostre a temperatura em graus Celsius.\n",
    "C = 5 * ((F-32) / 9)."
   ]
  },
  {
   "cell_type": "code",
   "execution_count": null,
   "id": "a56fbad2",
   "metadata": {},
   "outputs": [],
   "source": [
    "tempFah = float(input('Informe a temperatura em Fahrenheit: '))\n",
    "tempCel = 5*((tempFah-32)/9)\n",
    "\n",
    "print(f'A temperatura de {tempFah}F° corresponde a {tempCel:.2f}C°')"
   ]
  },
  {
   "cell_type": "markdown",
   "id": "4ae63c98",
   "metadata": {},
   "source": [
    "10 - Faça um Programa que peça a temperatura em graus Celsius, transforme e mostre em graus Fahrenheit."
   ]
  },
  {
   "cell_type": "code",
   "execution_count": null,
   "id": "45b3b54b",
   "metadata": {},
   "outputs": [],
   "source": [
    "tempCel = float(input('Informe a temperatura em graus Celsius: '))\n",
    "tempFah = tempCel*9/5+32\n",
    "\n",
    "print(f'A temperatura de {tempCel}C° corresponde a {tempFah}F°')"
   ]
  },
  {
   "cell_type": "markdown",
   "id": "f9a1128f",
   "metadata": {},
   "source": [
    "11 - Faça um Programa que peça 2 números inteiros e um número real. Calcule e mostre:\n",
    "* o produto do dobro do primeiro com metade do segundo .\n",
    "* a soma do triplo do primeiro com o terceiro.\n",
    "* o terceiro elevado ao cubo."
   ]
  },
  {
   "cell_type": "code",
   "execution_count": null,
   "id": "9e099acf",
   "metadata": {},
   "outputs": [],
   "source": [
    "num1 = int(input('Insira um número inteiro: '))\n",
    "num2 = int(input('Insira outro número inteiro: '))\n",
    "num3 = float(input('Insira um número real: '))\n",
    "\n",
    "# Primeiro item\n",
    "res1 = 2*num1 * num2/2\n",
    "print(f'o produto do dobro do primeiro com metade do segundo é {res1}')\n",
    "\n",
    "# Segundo item\n",
    "res2 = 3*num1 + num3\n",
    "print(f'a soma do triplo do primeiro com o terceiro é {res2}')\n",
    "\n",
    "# Terceiro item\n",
    "res3 = num3**3\n",
    "print(f'o terceiro elevado ao cubo é {res3}')"
   ]
  },
  {
   "cell_type": "markdown",
   "id": "7b0a3534",
   "metadata": {},
   "source": [
    "12 - Tendo como dados de entrada a altura de uma pessoa, construa um algoritmo que calcule seu peso ideal, usando a seguinte fórmula: (72.7*altura) - 58"
   ]
  },
  {
   "cell_type": "code",
   "execution_count": null,
   "id": "6c93fa1d",
   "metadata": {},
   "outputs": [],
   "source": [
    "altura = float(input('Informe sua altura: '))\n",
    "pesoIdeal = 72.7*altura-58\n",
    "\n",
    "print(f'Seu peso ideal é {pesoIdeal}')"
   ]
  },
  {
   "cell_type": "markdown",
   "id": "7a17318e",
   "metadata": {},
   "source": [
    "13 - Tendo como dado de entrada a altura (h) de uma pessoa, construa um algoritmo que calcule seu peso ideal, utilizando as seguintes fórmulas:\n",
    "* Para homens: (72.7*h) - 58\n",
    "* Para mulheres: (62.1*h) - 44.7"
   ]
  },
  {
   "cell_type": "code",
   "execution_count": null,
   "id": "2981557b",
   "metadata": {},
   "outputs": [],
   "source": [
    "sexo = input('Você é homem ou mulher[H/M]? ')\n",
    "altura = float(input('Qual a sua altura? '))\n",
    "pesoIdeal = 0\n",
    "\n",
    "if sexo == 'H':\n",
    "    pesoIdeal = 72.7*altura-58\n",
    "elif sexo == 'M':\n",
    "    pesoIdeal = 62.1*altura-44.7\n",
    "else:\n",
    "    print(\"Resposta inválida\")\n",
    "    \n",
    "print(f'Seu peso ideal é {pesoIdeal}kg')"
   ]
  },
  {
   "cell_type": "markdown",
   "id": "9e81724b",
   "metadata": {},
   "source": [
    "14 - João Papo-de-Pescador, homem de bem, comprou um microcomputador para controlar o rendimento diário de seu trabalho. Toda vez que ele traz um peso de peixes maior que o estabelecido pelo regulamento de pesca do estado de São Paulo (50 quilos) deve pagar uma multa de R$ 4,00 por quilo excedente. João precisa que você faça um programa que leia a variável peso (peso de peixes) e calcule o excesso. Gravar na variável excesso a quantidade de quilos além do limite e na variável multa o valor da multa que João deverá pagar. Imprima os dados do programa com as mensagens adequadas."
   ]
  },
  {
   "cell_type": "code",
   "execution_count": null,
   "id": "7617d53b",
   "metadata": {},
   "outputs": [],
   "source": [
    "pesoPeixe = float(input('Informe qual o peso dos peixes: '))\n",
    "excesso = pesoPeixe-50\n",
    "multa = excesso*4\n",
    "\n",
    "print(f'Peso de peixes: {pesoPeixe}kg\\nExcesso: {excesso}kg\\nMulta: R${multa:.2f}')"
   ]
  },
  {
   "cell_type": "markdown",
   "id": "224ad8dd",
   "metadata": {},
   "source": [
    "15 - Faça um Programa que pergunte quanto você ganha por hora e o número de horas trabalhadas no mês. Calcule e mostre o total do seu salário no referido mês, sabendo-se que são descontados 11% para o Imposto de Renda, 8% para o INSS e 5% para o sindicato, faça um programa que nos dê:\n",
    "* salário bruto.\n",
    "* quanto pagou ao INSS.\n",
    "* quanto pagou ao sindicato.\n",
    "* o salário líquido.\n",
    "* calcule os descontos e o salário líquido, conforme a tabela abaixo:"
   ]
  },
  {
   "cell_type": "code",
   "execution_count": null,
   "id": "21757802",
   "metadata": {},
   "outputs": [],
   "source": [
    "valorHora = float(input('Informe o valor que você ganha por hora: '))\n",
    "horasTrabalhadas = float(input('Informe quantas horas foram trabalhadas neste mês: '))\n",
    "\n",
    "salarioBruto = valorHora * horasTrabalhadas\n",
    "inss = 0.08*salarioBruto\n",
    "irrf = 0.11*salarioBruto\n",
    "sindicato = 0.05*salarioBruto\n",
    "liquido = salarioBruto - inss - irrf - sindicato\n",
    "\n",
    "print(f'+ Salário Bruto : R${salarioBruto:.2f}\\n- IR (11%): R${irrf:.2f}\\n- INSS (8%) : R${inss:.2f}\\n- Sindicato (5%) : R${sindicato}\\n= Salário Líquido : R${liquido}')"
   ]
  },
  {
   "cell_type": "markdown",
   "id": "f5adeafc",
   "metadata": {},
   "source": [
    "16 - Faça um programa para uma loja de tintas. O programa deverá pedir o tamanho em metros quadrados da área a ser pintada. Considere que a cobertura da tinta é de 1 litro para cada 3 metros quadrados e que a tinta é vendida em latas de 18 litros, que custam R$ 80,00. Informe ao usuário a quantidades de latas de tinta a serem compradas e o preço total"
   ]
  },
  {
   "cell_type": "code",
   "execution_count": null,
   "id": "35ba490e",
   "metadata": {},
   "outputs": [],
   "source": [
    "from math import ceil\n",
    "areaPintada = float(input('Informe o tamanho da área a ser pintada em m2: '))\n",
    "litros = areaPintada/3\n",
    "latas = ceil(litros/18)\n",
    "preco = latas*80\n",
    "\n",
    "print(f'Área a ser pintada : {areaPintada}m2\\nQuantidade necessária de litros : {litros}\\nQuantidade necessária de latas : {latas}\\nPreço total : R${preco}')\n"
   ]
  },
  {
   "cell_type": "markdown",
   "id": "573d1773",
   "metadata": {},
   "source": [
    "17 - Faça um Programa para uma loja de tintas. O programa deverá pedir o tamanho em metros quadrados da área a ser pintada. Considere que a cobertura da tinta é de 1 litro para cada 6 metros quadrados e que a tinta é vendida em latas de 18 litros, que custam RS 80,00 ou em galões de 3.6 litros que custam R$ 25,00.\n",
    "Informe ao usuário as quantidades de tinta a serem compradas e os respectivos preços em 3 situações:\n",
    "* comprar apenas latas de 18 litros;\n",
    "* comprar apenas galões de 3,6 litros;\n",
    "* misturar latas e galões, de forma que o desperdício de tinta seja menor. Acrescente 10% de folga e sempre arredonde os valores para cima, isto é, considere latas cheias."
   ]
  },
  {
   "cell_type": "code",
   "execution_count": 8,
   "id": "a0f5e8a9",
   "metadata": {},
   "outputs": [
    {
     "name": "stdout",
     "output_type": "stream",
     "text": [
      "Informe o tamanho (em m2) da área a ser pintada: 180\n",
      "Comprando apenas latas, você gastará 2 latas, totalizando R$160.00\n",
      "Comprando apenas galões, voce gastará 9 galões, totalizando R$225.00\n",
      "Alternativamente, você pode comprar 1 latas e 4 galoes, totalizando R$345.00\n"
     ]
    }
   ],
   "source": [
    "from math import ceil\n",
    "area = float(input(\"Informe o tamanho (em m2) da área a ser pintada: \"))\n",
    "\n",
    "litros = area / 6\n",
    "latas = ceil(litros / 18)\n",
    "galoes = ceil(litros / 3.6)\n",
    "\n",
    "print(f'Comprando apenas latas, você gastará {latas} latas, totalizando R${latas*80:.2f}')\n",
    "print(f\"Comprando apenas galões, voce gastará {galoes} galões, totalizando R${galoes*25:.2f}\")\n",
    "\n",
    "sobra = litros % 18\n",
    "newGaloes = ceil(sobra / 3.6)\n",
    "newlatas = int(litros / 18)\n",
    "print(f'Alternativamente, você pode comprar {newlatas} latas e {newGaloes} galoes, totalizando R${newGaloes*80+newlatas*25:.2f}')\n",
    "\n",
    "\n",
    "# Com aumento de 10%\n",
    "# litros = 1.1*(area / 6)\n",
    "# sobra = litros % 18\n",
    "# # newGaloes = ceil(sobra / 3.6)\n",
    "# # newlatas = int(litros / 18)\n",
    "# # print(f'Alternativamente, você pode comprar {newlatas} latas e {newGaloes} galoes, totalizando R${newGaloes*80+newlatas*25:.2f}')"
   ]
  },
  {
   "cell_type": "markdown",
   "id": "96f89dad",
   "metadata": {},
   "source": [
    "18 - Faça um programa que peça o tamanho de um arquivo para download (em MB) e a velocidade de um link de Internet (em Mbps), calcule e informe o tempo aproximado de download do arquivo usando este link (em minutos)."
   ]
  },
  {
   "cell_type": "code",
   "execution_count": 2,
   "id": "d20c0db9",
   "metadata": {},
   "outputs": [
    {
     "name": "stdout",
     "output_type": "stream",
     "text": [
      "Informe o tamanho do arquivo (MB): 1200\n",
      "Informe a velocidade de conexão (Mbps): 5\n",
      "O tempo estimado de download é de 4.00 minutos!\n"
     ]
    }
   ],
   "source": [
    "tam = float(input('Informe o tamanho do arquivo (MB): '))\n",
    "velocidade = float(input('Informe a velocidade de conexão (Mbps): '))\n",
    "\n",
    "tempo = tam/velocidade\n",
    "print(f'O tempo estimado de download é de {tempo/60:.2f} minutos!')"
   ]
  },
  {
   "cell_type": "code",
   "execution_count": null,
   "id": "fd9042d1",
   "metadata": {},
   "outputs": [],
   "source": []
  }
 ],
 "metadata": {
  "kernelspec": {
   "display_name": "Python 3 (ipykernel)",
   "language": "python",
   "name": "python3"
  },
  "language_info": {
   "codemirror_mode": {
    "name": "ipython",
    "version": 3
   },
   "file_extension": ".py",
   "mimetype": "text/x-python",
   "name": "python",
   "nbconvert_exporter": "python",
   "pygments_lexer": "ipython3",
   "version": "3.9.13"
  }
 },
 "nbformat": 4,
 "nbformat_minor": 5
}
