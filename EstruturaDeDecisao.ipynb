{
 "cells": [
  {
   "cell_type": "markdown",
   "id": "5fbd7b1c",
   "metadata": {},
   "source": [
    "1 - Faça um Programa que peça dois números e imprima o maior deles."
   ]
  },
  {
   "cell_type": "code",
   "execution_count": 2,
   "id": "0d624683",
   "metadata": {},
   "outputs": [
    {
     "name": "stdout",
     "output_type": "stream",
     "text": [
      "Informe o primeiro número: 7.65\n",
      "Informe o segundo número: .5\n",
      "7.65 é maior que 0.5\n"
     ]
    }
   ],
   "source": [
    "num1 = float(input('Informe o primeiro número: '))\n",
    "num2 = float(input('Informe o segundo número: '))\n",
    "\n",
    "if num1 > num2:\n",
    "    print(f'{num1} é maior que {num2}')\n",
    "elif num2 > num1: \n",
    "    print(f'{num2} é maior que {num1}')\n",
    "else:\n",
    "    print('Os número são iguais!')"
   ]
  },
  {
   "cell_type": "markdown",
   "id": "c5e61737",
   "metadata": {},
   "source": [
    "2 - Faça um Programa que peça um valor e mostre na tela se o valor é positivo ou negativo."
   ]
  },
  {
   "cell_type": "code",
   "execution_count": 6,
   "id": "cf4f9c43",
   "metadata": {},
   "outputs": [
    {
     "name": "stdout",
     "output_type": "stream",
     "text": [
      "Informe um número: 0\n",
      "Você digitou 0!\n"
     ]
    }
   ],
   "source": [
    "num = float(input('Informe um número: '))\n",
    "\n",
    "if num > 0:\n",
    "    print(f'{num} é positivo!')\n",
    "elif num < 0:\n",
    "    print(f'{num} é negativo')\n",
    "else:\n",
    "    print('Você digitou 0!')"
   ]
  },
  {
   "cell_type": "markdown",
   "id": "3d780d41",
   "metadata": {},
   "source": [
    "3 - Faça um Programa que verifique se uma letra digitada é \"F\" ou \"M\". Conforme a letra escrever: F - Feminino, M - Masculino, Sexo Inválido."
   ]
  },
  {
   "cell_type": "code",
   "execution_count": 9,
   "id": "2485dfa2",
   "metadata": {},
   "outputs": [
    {
     "name": "stdout",
     "output_type": "stream",
     "text": [
      "Digite F ou M: l\n",
      "Sexo inválido!\n"
     ]
    }
   ],
   "source": [
    "letra = input('Digite F ou M: ').upper()\n",
    "\n",
    "if letra == 'F':\n",
    "    print(\"Você digitou 'F'\")\n",
    "elif letra == 'M':\n",
    "    print(\"Você digitou 'M'\")\n",
    "else:\n",
    "    print('Sexo inválido!')"
   ]
  },
  {
   "cell_type": "markdown",
   "id": "82efc9c4",
   "metadata": {},
   "source": [
    "4 - Faça um Programa que verifique se uma letra digitada é vogal ou consoante."
   ]
  },
  {
   "cell_type": "code",
   "execution_count": 18,
   "id": "8417e757",
   "metadata": {},
   "outputs": [
    {
     "name": "stdout",
     "output_type": "stream",
     "text": [
      "Digite uma letra: o\n",
      "A letra 'o' é vogal!\n"
     ]
    }
   ],
   "source": [
    "letter = input('Digite uma letra: ')\n",
    "\n",
    "if letter == \"a\" or letter == \"e\" or letter == \"i\" or letter == \"o\" or letter == \"u\":\n",
    "    print(f\"A letra '{letter}' é vogal!\")\n",
    "else:\n",
    "    print(f\"A letra '{letter}' é consoante!\")"
   ]
  },
  {
   "cell_type": "markdown",
   "id": "cac3f172",
   "metadata": {},
   "source": [
    "5 - Faça um programa para a leitura de duas notas parciais de um aluno. O programa deve calcular a média alcançada por aluno e apresentar:\n",
    "* A mensagem \"Aprovado\", se a média alcançada for maior ou igual a sete;\n",
    "* A mensagem \"Reprovado\", se a média for menor do que sete;\n",
    "* A mensagem \"Aprovado com Distinção\", se a média for igual a dez."
   ]
  },
  {
   "cell_type": "code",
   "execution_count": 22,
   "id": "bba32246",
   "metadata": {},
   "outputs": [
    {
     "name": "stdout",
     "output_type": "stream",
     "text": [
      "Informe a primeiro nota: 10\n",
      "Informe a segunda nota: 10\n",
      "Aprovado com distinção!\n"
     ]
    }
   ],
   "source": [
    "nota1 = float(input('Informe a primeiro nota: '))\n",
    "nota2 = float(input('Informe a segunda nota: '))\n",
    "mean = (nota1+nota2)/2\n",
    "\n",
    "if mean >= 7 and mean < 10: print('Aprovado!')\n",
    "elif mean < 7: print('Reprovado!')\n",
    "elif mean == 10: print(\"Aprovado com distinção!\")"
   ]
  },
  {
   "cell_type": "markdown",
   "id": "1235072a",
   "metadata": {},
   "source": [
    "6 - Faça um Programa que leia três números e mostre o maior deles."
   ]
  },
  {
   "cell_type": "code",
   "execution_count": 26,
   "id": "f90e80a8",
   "metadata": {},
   "outputs": [
    {
     "name": "stdout",
     "output_type": "stream",
     "text": [
      "Informe o primeiro número: 5\n",
      "Informe o segundo número: 5\n",
      "Informe o terceiro número: 5\n",
      "Números iguais foram informados!\n"
     ]
    }
   ],
   "source": [
    "num1 = float(input('Informe o primeiro número: '))\n",
    "num2 = float(input('Informe o segundo número: '))\n",
    "num3 = float(input('Informe o terceiro número: '))\n",
    "\n",
    "if num1 > num2 and num1 > num3:\n",
    "    print(f'O maior dentre os números informados é {num1}')\n",
    "elif num2 > num1 and num2 > num3:\n",
    "    print(f'O maior dentre os números informados é {num2}')\n",
    "elif num3 > num1 and num3 > num2:\n",
    "    print(f'O maior dentre os números informados é {num3}')\n",
    "else:\n",
    "    print(\"Números iguais foram informados!\")"
   ]
  },
  {
   "cell_type": "markdown",
   "id": "2ed7d18c",
   "metadata": {},
   "source": [
    "7 - Faça um Programa que leia três números e mostre o maior e o menor deles."
   ]
  },
  {
   "cell_type": "code",
   "execution_count": 28,
   "id": "82b4d2c3",
   "metadata": {},
   "outputs": [
    {
     "name": "stdout",
     "output_type": "stream",
     "text": [
      "Informe um número: 4\n",
      "Informe outro número: -8\n",
      "Informe um terceiro: 12\n",
      "O maior número informado foi 12.0 e o menor foi -8.0\n"
     ]
    }
   ],
   "source": [
    "num1 = float(input(\"Informe um número: \"))\n",
    "num2 = float(input('Informe outro número: '))\n",
    "num3 = float(input('Informe um terceiro: '))\n",
    "\n",
    "maior = max(num1, num2, num3)\n",
    "menor = min(num1, num2, num3)\n",
    "\n",
    "print(f'O maior número informado foi {maior} e o menor foi {menor}')"
   ]
  },
  {
   "cell_type": "markdown",
   "id": "916dc0a6",
   "metadata": {},
   "source": [
    "8 - Faça um programa que pergunte o preço de três produtos e informe qual produto você deve comprar, sabendo que a decisão é sempre pelo mais barato."
   ]
  },
  {
   "cell_type": "code",
   "execution_count": 32,
   "id": "bdc3a062",
   "metadata": {},
   "outputs": [
    {
     "name": "stdout",
     "output_type": "stream",
     "text": [
      "Informe preço do primeiro produto: 5\n",
      "Informe preço do segundo produto: 5\n",
      "Informe preço do terceiro produto: 5\n",
      "Produtos com valores iguais foram informados!\n"
     ]
    }
   ],
   "source": [
    "prod1 = float(input('Informe preço do primeiro produto: '))\n",
    "prod2 = float(input('Informe preço do segundo produto: '))\n",
    "prod3 = float(input('Informe preço do terceiro produto: '))\n",
    "\n",
    "if prod1 < prod2 and prod1 < prod3:\n",
    "    print(\"Compre o primeiro produto!\")\n",
    "elif prod2 < prod1 and prod2 < prod3:\n",
    "    print(\"Compre o segundo produto!\")\n",
    "elif prod3 < prod1 and prod3 < prod2:\n",
    "    print(\"Compre o terceiro produto!\")\n",
    "else:\n",
    "    print(\"Produtos com valores iguais foram informados!\")"
   ]
  },
  {
   "cell_type": "markdown",
   "id": "3e671f50",
   "metadata": {},
   "source": [
    "9 - Faça um Programa que leia três números e mostre-os em ordem decrescente."
   ]
  },
  {
   "cell_type": "code",
   "execution_count": 36,
   "id": "a7418ef8",
   "metadata": {},
   "outputs": [
    {
     "name": "stdout",
     "output_type": "stream",
     "text": [
      "Informe um número: 5\n",
      "Informe outro número: -6\n",
      "Informe um terceiro: 12\n",
      "Os numeros em ordem decrescente são 12.0, 5.0 e -6.0\n"
     ]
    }
   ],
   "source": [
    "num1 = float(input(\"Informe um número: \"))\n",
    "num2 = float(input('Informe outro número: '))\n",
    "num3 = float(input('Informe um terceiro: '))\n",
    "\n",
    "numeros = [num1, num2, num3]\n",
    "numeros.sort(reverse=True)\n",
    "print(f'Os numeros em ordem decrescente são {numeros[0]}, {numeros[1]} e {numeros[2]}')"
   ]
  },
  {
   "cell_type": "markdown",
   "id": "b6856244",
   "metadata": {},
   "source": [
    "10 - Faça um Programa que pergunte em que turno você estuda. Peça para digitar M-matutino ou V-Vespertino ou N- Noturno. Imprima a mensagem \"Bom Dia!\", \"Boa Tarde!\" ou \"Boa Noite!\" ou \"Valor Inválido!\", conforme o caso."
   ]
  },
  {
   "cell_type": "code",
   "execution_count": 40,
   "id": "12720ab4",
   "metadata": {},
   "outputs": [
    {
     "name": "stdout",
     "output_type": "stream",
     "text": [
      "Em que turno você estuda? M - matutino; V - verpertino; N - noturno: p\n",
      "Valor inválido!\n"
     ]
    }
   ],
   "source": [
    "boasVindas = input('Em que turno você estuda? M - matutino; V - verpertino; N - noturno: ').upper()\n",
    "\n",
    "if boasVindas == 'M':\n",
    "    print('Bom dia!')\n",
    "elif boasVindas == 'V':\n",
    "    print('Boa tarde!')\n",
    "elif boasVindas == 'N':\n",
    "    print('Boa noite!')\n",
    "else:\n",
    "    print('Valor inválido!')"
   ]
  },
  {
   "cell_type": "markdown",
   "id": "9fdf5b80",
   "metadata": {},
   "source": [
    "11 - As Organizações Tabajara resolveram dar um aumento de salário aos seus colaboradores e lhe contraram para desenvolver o programa que calculará os reajustes.\n",
    "Faça um programa que recebe o salário de um colaborador e o reajuste segundo o seguinte critério, baseado no salário atual:\n",
    "* salários até RS 280,00 (incluindo) : aumento de 20%\n",
    "* salários entre RS 280,00 e RS 700,00 : aumento de 15%\n",
    "* salários entre RS 700,00 e RS 1500,00 : aumento de 10%\n",
    "* salários de RS 1500,00 em diante : aumento de 5% Após o aumento ser realizado, informe na tela:\n",
    "* o salário antes do reajuste;\n",
    "* o percentual de aumento aplicado;\n",
    "* o valor do aumento;\n",
    "* o novo salário, após o aumento."
   ]
  },
  {
   "cell_type": "code",
   "execution_count": 43,
   "id": "12697ddc",
   "metadata": {},
   "outputs": [
    {
     "name": "stdout",
     "output_type": "stream",
     "text": [
      "Informe o seu salário: 1450\n",
      "Salário antigo: R$1450.00\n",
      "Novo Salário: R$1595.00\n",
      "Aumento percentual: 10%\n"
     ]
    }
   ],
   "source": [
    "salario = float(input('Informe o seu salário: '))\n",
    "novoSalario = 0\n",
    "aumento = 0\n",
    "\n",
    "\n",
    "if salario <= 280:\n",
    "    novoSalario = salario*1.2\n",
    "    aumento = '20%'\n",
    "elif 280 < salario <= 700:\n",
    "    novoSalario = salario*1.15\n",
    "    aumento = '15%'\n",
    "elif 700 < salario <= 1500:\n",
    "    novoSalario = salario*1.1\n",
    "    aumento = '10%'\n",
    "else:\n",
    "    novoSalario = salario*1.05\n",
    "    aumento = '5%'\n",
    "print(f'Salário antigo: R${salario:.2f}\\nNovo Salário: R${novoSalario:.2f}\\nAumento percentual: {aumento}')"
   ]
  },
  {
   "cell_type": "markdown",
   "id": "8fc6a6fb",
   "metadata": {},
   "source": [
    "12 - Faça um programa para o cálculo de uma folha de pagamento, sabendo que os descontos são do Imposto de Renda, que depende do salário bruto (conforme tabela abaixo) e 3% para o Sindicato e que o FGTS corresponde a 11% do Salário Bruto, mas não é descontado (é a empresa que deposita). O Salário Líquido corresponde ao Salário Bruto menos os descontos. O programa deverá pedir ao usuário o valor da sua hora e a quantidade de horas trabalhadas no mês.\n",
    "Desconto do IR:\n",
    "* Salário Bruto até 900 (inclusive) - isento\n",
    "* Salário Bruto até 1500 (inclusive) - desconto de 5%\n",
    "* Salário Bruto até 2500 (inclusive) - desconto de 10%\n",
    "* Salário Bruto acima de 2500 - desconto de 20% Imprima na tela as informações, dispostas conforme o exemplo abaixo. No exemplo o valor da hora é 5 e a quantidade de hora é 220."
   ]
  },
  {
   "cell_type": "code",
   "execution_count": 100,
   "id": "7c67bd6b",
   "metadata": {},
   "outputs": [
    {
     "name": "stdout",
     "output_type": "stream",
     "text": [
      "Informe o valor de sua hora de trabalho: 50\n",
      "Informe o total de horas trabalhadas: 70\n",
      "Salário Bruto        R$3500.00\n",
      "(-) IR               R$700.0\n",
      "(-) INSS             R$350.00\n",
      "FGTS                 R$385.00\n",
      "Total de descontos:  R$1050.00\n",
      "Salário Líquido:     R$2450.00\n"
     ]
    }
   ],
   "source": [
    "valorHora = float(input('Informe o valor de sua hora de trabalho: '))\n",
    "totalHoras = float(input('Informe o total de horas trabalhadas: '))\n",
    "\n",
    "salario = valorHora*totalHoras\n",
    "ir = 0\n",
    "taxa = 0\n",
    "if 900 < salario <= 1500:\n",
    "    ir = salario*0.05\n",
    "    taxa = '5%'\n",
    "elif 1500 < salario <= 2500:\n",
    "    ir = salario*0.1\n",
    "    taxa = '10%'\n",
    "elif salario > 2500:\n",
    "    ir = salario*0.2\n",
    "    taxa = '20%'\n",
    "print(f\"{'Salário Bruto':<20} R${salario:.2f}\\n\"\n",
    "      f\"{'(-) IR':<20} R${ir}\\n\" \n",
    "      f\"{'(-) INSS':<20} R${salario*0.1:.2f}\\n\"\n",
    "      f\"{'FGTS':<20} R${salario*0.11:.2f}\\n\"\n",
    "      f\"{'Total de descontos: ':<20} R${salario*0.1+ir:.2f}\\n\"\n",
    "      f\"{'Salário Líquido: ':<20} R${salario - (salario*0.1+ir):.2f}\")\n",
    "    "
   ]
  },
  {
   "cell_type": "markdown",
   "id": "a0ad24bb",
   "metadata": {},
   "source": [
    "13 - Faça um Programa que leia um número e exiba o dia correspondente da semana. (1-Domingo, 2- Segunda, etc.), se digitar outro valor deve aparecer valor inválido."
   ]
  },
  {
   "cell_type": "code",
   "execution_count": 3,
   "id": "a653c5b0",
   "metadata": {},
   "outputs": [
    {
     "name": "stdout",
     "output_type": "stream",
     "text": [
      "Informe um número (Entre 1 e 7, incluíndo): 10\n",
      "10.0 Valor inválido\n"
     ]
    }
   ],
   "source": [
    "num = float(input('Informe um número (Entre 1 e 7, incluíndo): '))\n",
    "\n",
    "if num == 1: print(f'Número {num} corresponde a domingo!')\n",
    "elif num == 2: print(f'Número {num} corresponde a segunda!')\n",
    "elif num == 3: print(f'Número {num} corresponde a terça!')\n",
    "elif num == 4: print(f'Número {num} corresponde a quarta!')\n",
    "elif num == 5: print(f'Número {num} corresponde a quinta!')\n",
    "elif num == 6: print(f'Número {num} corresponde a sexta!')\n",
    "elif num == 7: print(f'Número {num} corresponde a sábado!')\n",
    "else: print(f'{num} Valor inválido')"
   ]
  },
  {
   "cell_type": "markdown",
   "id": "6944774c",
   "metadata": {},
   "source": [
    "14 - Faça um programa que lê as duas notas parciais obtidas por um aluno numa disciplina ao longo de um semestre, e calcule a sua média. A atribuição de conceitos obedece à tabela abaixo.\n",
    "O algoritmo deve mostrar na tela as notas, a média, o conceito correspondente e a mensagem “APROVADO” se o conceito for A, B ou C ou “REPROVADO” se o conceito for D ou E."
   ]
  },
  {
   "cell_type": "code",
   "execution_count": 8,
   "id": "56d5ffaa",
   "metadata": {},
   "outputs": [
    {
     "name": "stdout",
     "output_type": "stream",
     "text": [
      "Informe a primeira nota: 10\n",
      "Informe a segunda nota: 10\n",
      "Média: 10.0\n",
      "Conceito: A\n",
      "Situação:APROVADO\n"
     ]
    }
   ],
   "source": [
    "nota1 = float(input('Informe a primeira nota: '))\n",
    "nota2 = float(input('Informe a segunda nota: '))\n",
    "\n",
    "media = (nota1+nota2)/2\n",
    "conceito = ''\n",
    "situacao = ''\n",
    "\n",
    "if 9 <= media <= 10: conceito = 'A'\n",
    "elif 7.5 <= media < 9: conceito = 'B'\n",
    "elif 6 <= media < 7.5: conceito = 'C'\n",
    "elif 4 <= media < 6: conceito = 'D'\n",
    "elif 0 <= media < 4: conceito = 'E'\n",
    "else: print('Valor inválido')\n",
    "    \n",
    "if conceito == 'A' or conceito == 'B' or conceito == 'C': situacao = 'APROVADO'\n",
    "elif conceito == 'D' or conceito == 'E': situacao == 'REPROVADO'\n",
    "    \n",
    "print(f\"Média: {media}\\nConceito: {conceito}\\nSituação:{situacao}\")"
   ]
  },
  {
   "cell_type": "markdown",
   "id": "f9401eb1",
   "metadata": {},
   "source": [
    "15 - Faça um Programa que peça os 3 lados de um triângulo. O programa deverá informar se os valores podem ser um triângulo. Indique, caso os lados formem um triângulo, se o mesmo é: equilátero, isósceles ou escaleno.\n",
    "Dicas:\n",
    "* Três lados formam um triângulo quando a soma de quaisquer dois lados for maior que o terceiro;\n",
    "* Triângulo Equilátero: três lados iguais;\n",
    "* Triângulo Isósceles: quaisquer dois lados iguais;\n",
    "* Triângulo Escaleno: três lados diferentes;"
   ]
  },
  {
   "cell_type": "code",
   "execution_count": 13,
   "id": "3aeccd31",
   "metadata": {},
   "outputs": [
    {
     "name": "stdout",
     "output_type": "stream",
     "text": [
      "Informe o primero lado do triângulo: 15\n",
      "Informe o segundo lado do triângulo: 15\n",
      "Informe o terceiro lado do triângulo: 100\n",
      "Os valores informados não formam um triângulo!\n"
     ]
    }
   ],
   "source": [
    "a = float(input('Informe o primero lado do triângulo: '))\n",
    "b = float(input('Informe o segundo lado do triângulo: '))\n",
    "c = float(input('Informe o terceiro lado do triângulo: '))\n",
    "\n",
    "if a+b>c and a+c>b and b+c>a:\n",
    "    print('Os valores informados podem formar um triângulo!')\n",
    "    if a == b == c: print('Tal triângulo é equilátero!')\n",
    "    elif a == b or b == c or a == c: print('Tal triângulo é isósceles!')\n",
    "    else: print('O triângulo informado é escaleno!')\n",
    "else: print('Os valores informados não formam um triângulo!')\n"
   ]
  },
  {
   "cell_type": "markdown",
   "id": "9c90fa17",
   "metadata": {},
   "source": [
    "16 - Faça um programa que calcule as raízes de uma equação do segundo grau, na forma ax2 + bx + c. O programa deverá pedir os valores de a, b e c e fazer as consistências, informando ao usuário nas seguintes situações:\n",
    "* Se o usuário informar o valor de A igual a zero, a equação não é do segundo grau e o programa não deve fazer pedir os demais valores, sendo encerrado;\n",
    "* Se o delta calculado for negativo, a equação não possui raizes reais. Informe ao usuário e encerre o programa;\n",
    "* Se o delta calculado for igual a zero a equação possui apenas uma raiz real; informe-a ao usuário;\n",
    "* Se o delta for positivo, a equação possui duas raiz reais; informe-as ao usuário;"
   ]
  },
  {
   "cell_type": "code",
   "execution_count": 16,
   "id": "02455bb0",
   "metadata": {},
   "outputs": [
    {
     "name": "stdout",
     "output_type": "stream",
     "text": [
      "Informe o parâmetro 'a': 1\n",
      "Informe o parâmetro 'b': 5\n",
      "Informe o parâmetro 'c': 6\n",
      "A equação possui duas raizes reais!\n"
     ]
    }
   ],
   "source": [
    "a = float(input(\"Informe o parâmetro 'a': \"))\n",
    "\n",
    "if a == 0: print(\"O parâmetro 'a' não pode ser 0\\nFim do Programa\")\n",
    "else:\n",
    "    b = float(input(\"Informe o parâmetro 'b': \"))\n",
    "    c = float(input(\"Informe o parâmetro 'c': \"))\n",
    "    delta = b**2-4*a*c\n",
    "    if delta < 0: print('A equação não possui raizes reais!')\n",
    "    elif delta == 0: print('A equação possui um única raiz real!')\n",
    "    else: print('A equação possui duas raizes reais!')"
   ]
  },
  {
   "cell_type": "markdown",
   "id": "13025724",
   "metadata": {},
   "source": [
    "17 - Faça um Programa que peça um número correspondente a um determinado ano e em seguida informe se este ano é ou não bissexto."
   ]
  },
  {
   "cell_type": "code",
   "execution_count": 18,
   "id": "5e3a0e69",
   "metadata": {},
   "outputs": [
    {
     "name": "stdout",
     "output_type": "stream",
     "text": [
      "Informe o ano: 2022\n",
      "2022 não é um ano bissexto!\n"
     ]
    }
   ],
   "source": [
    "ano = int(input('Informe o ano: '))\n",
    "\n",
    "if ano % 4 == 0: print(f\"{ano} é um ano bissexto!\")\n",
    "else: print(f\"{ano} não é um ano bissexto!\")"
   ]
  },
  {
   "cell_type": "markdown",
   "id": "5fd3743a",
   "metadata": {},
   "source": [
    "18 - Faça um Programa que peça uma data no formato dd/mm/aaaa e determine se a mesma é uma data válida."
   ]
  },
  {
   "cell_type": "code",
   "execution_count": 11,
   "id": "c9730793",
   "metadata": {},
   "outputs": [
    {
     "name": "stdout",
     "output_type": "stream",
     "text": [
      "Informe a data[dd/mm/aaaa]: 31/12/1950\n",
      "A data informada é válida!\n"
     ]
    }
   ],
   "source": [
    "data = input('Informe a data[dd/mm/aaaa]: ')\n",
    "listaData = data.split(\"/\")\n",
    "\n",
    "bool1 = len(listaData[0]) == 2 and len(listaData[1]) == 2 and len(listaData[2]) == 4\n",
    "bool2 = 1 <= int(listaData[0]) <= 31 and 1 <= int(listaData[1]) <= 12 and 1900 < int(listaData[2])\n",
    "\n",
    "\n",
    "if bool1 and bool2:\n",
    "    verificacao = True\n",
    "else: verificacao = False\n",
    "\n",
    "if verificacao:\n",
    "    print('A data informada é válida!')\n",
    "else: \n",
    "    print('Formato inválido de data!')"
   ]
  },
  {
   "cell_type": "markdown",
   "id": "a97795cb",
   "metadata": {},
   "source": [
    "19 - Faça um Programa que leia um número inteiro menor que 1000 e imprima a quantidade de centenas, dezenas e unidades do mesmo.\n",
    "Observando os termos no plural a colocação do \"e\", da vírgula entre outros. Exemplo:\n",
    "* 326 = 3 centenas, 2 dezenas e 6 unidades\n",
    "* 12 = 1 dezena e 2 unidades Testar com: 326, 300, 100, 320, 310,305, 301, 101, 311, 111, 25, 20, 10, 21, 11, 1, 7 e 16"
   ]
  },
  {
   "cell_type": "code",
   "execution_count": 2,
   "id": "124e0b42",
   "metadata": {},
   "outputs": [
    {
     "name": "stdout",
     "output_type": "stream",
     "text": [
      "Informe um número menor do que 1000: 512\n",
      "512 = 5 centenas, 1 dezena e 2 unidades\n"
     ]
    }
   ],
   "source": [
    "num = int(input(\"Informe um número menor do que 1000: \"))\n",
    "\n",
    "un = 0\n",
    "dez = 0\n",
    "cent = 0\n",
    "pluralUn = ''\n",
    "pluralDez = ''\n",
    "pluralCent = ''\n",
    "\n",
    "if num >= 1000 or num <= 0:\n",
    "    print('Valor inválido!')\n",
    "else:\n",
    "    if num < 10:\n",
    "        un = num\n",
    "        if un > 1: pluralUn = 's'\n",
    "    elif 10 <= num < 100:\n",
    "        un = num % 10\n",
    "        dez = int(num/10)\n",
    "        if un > 1: pluralUn = 's'\n",
    "        if dez > 1: pluralDez = 's'\n",
    "    elif 100 <= num < 1000:\n",
    "        cent = int(num/100)\n",
    "        aux = num % 100\n",
    "        dez = int(aux/10)\n",
    "        un = aux % 10\n",
    "        if un > 1: pluralUn = 's'\n",
    "        if dez > 1: pluralDez = 's'\n",
    "        if cent > 1: pluralCent = 's'\n",
    "print(f\"{num} = {cent} centena{pluralCent}, {dez} dezena{pluralDez} e {un} unidade{pluralUn}\")\n"
   ]
  },
  {
   "cell_type": "markdown",
   "id": "666825ce",
   "metadata": {},
   "source": [
    "20 - Faça um Programa para leitura de três notas parciais de um aluno. O programa deve calcular a média alcançada por aluno e presentar:\n",
    "* A mensagem \"Aprovado\", se a média for maior ou igual a 7, com a respectiva média alcançada;\n",
    "* A mensagem \"Reprovado\", se a média for menor do que 7, com a respectiva média alcançada;\n",
    "* A mensagem \"Aprovado com Distinção\", se a média for igual a 10."
   ]
  },
  {
   "cell_type": "code",
   "execution_count": 4,
   "id": "e8aff6cc",
   "metadata": {},
   "outputs": [
    {
     "name": "stdout",
     "output_type": "stream",
     "text": [
      "Inclua a primeira nota: 10\n",
      "Inclua a segunda nota: 10\n",
      "Inclua a terceira nota: 10\n",
      "Aprovado com distinção!\n"
     ]
    }
   ],
   "source": [
    "nota1 = float(input('Inclua a primeira nota: '))\n",
    "nota2 = float(input('Inclua a segunda nota: '))\n",
    "nota3 = float(input('Inclua a terceira nota: '))\n",
    "\n",
    "media = (nota1+nota2+nota3)/3\n",
    "\n",
    "if 7 <= media < 10: print(f\"Aprovado = média:{media}\")\n",
    "elif media < 7: print(f\"Reprovado = média:{media}\")\n",
    "elif media == 10: print(f'Aprovado com distinção!')"
   ]
  },
  {
   "cell_type": "markdown",
   "id": "77973b8a",
   "metadata": {},
   "source": [
    "21 - Faça um Programa para um caixa eletrônico. O programa deverá perguntar ao usuário a valor do saque e depois informar quantas notas de cada valor serão fornecidas. As notas disponíveis serão as de 1, 5, 10, 50 e 100 reais. O valor mínimo é de 10 reais e o máximo de 600 reais. O programa não deve se preocupar com a quantidade de notas existentes na máquina.\n",
    "* Exemplo 1: Para sacar a quantia de 256 reais, o programa fornece duas notas de 100, uma nota de 50, uma nota de 5 e uma nota de 1;\n",
    "* Exemplo 2: Para sacar a quantia de 399 reais, o programa fornece três notas de 100, uma nota de 50, quatro notas de 10, uma nota de 5 e quatro notas de 1."
   ]
  },
  {
   "cell_type": "code",
   "execution_count": 81,
   "id": "bd71164f",
   "metadata": {},
   "outputs": [
    {
     "name": "stdout",
     "output_type": "stream",
     "text": [
      "Informe o valor a ser sacado, sendo no mínimo R$10 e no máximo R$600: 586\n",
      "Imprimindo 5 notas de R$100 , 1 nota de R$50 e 3 notas de R$10, 1 nota de R$5 e 1 notas de R$1\n"
     ]
    }
   ],
   "source": [
    "saque = int(input('Informe o valor a ser sacado, sendo no mínimo R$10 e no máximo R$600: '))\n",
    "\n",
    "if saque < 10 or saque > 600: \n",
    "    print(f\"O valor de R${saque} não está dentro do limite desta máquina!\")\n",
    "else:\n",
    "    if saque < 100:\n",
    "        if saque < 50:\n",
    "            if 0 < saque % 10 < 5:\n",
    "                print(f\"Imprimindo {int(saque/10)} notas de R$10 e {saque%10} nota de R$1\")\n",
    "            elif saque % 10 == 0:\n",
    "                print(f\"Imprimindo {saque/10} notas de R$10\")\n",
    "            elif saque % 10 > 5:\n",
    "                print(f\"Imprimindo {int(saque/10)} notas de R$10, 1 nota de 5 e {saque%10-5} nota de R$1\")\n",
    "            elif saque % 10 == 5:\n",
    "                print(f\"Imprimindo {int(saque/10)} notas de R$10 e 1 nota de R$5\")\n",
    "        else:\n",
    "            if saque == 50:\n",
    "                print('Imprimindo 1 nota de R$50')\n",
    "            elif saque % 10 == 0:\n",
    "                print(f'Imprimindo 1 nota de R$50 e {(saque-50)/10} notas de R$10')\n",
    "            elif saque < 60 and saque % 10 < 5:\n",
    "                print(f'imprimindo 1 nota de R$50 e {(saque - 50) % 10} notas de R$1')\n",
    "            elif saque < 60 and saque % 10 == 5:\n",
    "                print('Imprimindo 1 nota de R$50 e 1 nota de R$5')\n",
    "            elif saque < 60 and saque % 10 > 5:\n",
    "                print(f'Imprimindo 1 nota de R$50, 1 nota de R$5 e {saque - 55} notas de R$1')\n",
    "            elif saque % 10 < 5:\n",
    "                print(f'Imprimindo 1 nota de R$50, {int((saque - 50) / 10)} notas de R$10 e {(saque - 50) % 10} notas de R$1')\n",
    "            elif saque % 10 == 5:\n",
    "                print(f'Imprimindo 1 nota de R$50, {int((saque - 50) / 10)} notas de R$10 e 1 nota de R$5')\n",
    "            elif saque % 10 > 5:\n",
    "                print(f'Imprimindo 1 nota de R$50 e {int((saque - 50) / 10)} notas de R$10, 1 nota de R$5 e {((saque-50)%10)-5} notas de R$1')\n",
    "    else:\n",
    "        string = f'Imprimindo {int(saque/100)} notas de R$100 '\n",
    "        saque = saque%100\n",
    "        \n",
    "        if saque < 5:\n",
    "            print(string+f'e {saque} notas de R$1')\n",
    "        elif saque == 5:\n",
    "            print(string+f'e 1 nota de R$5')\n",
    "        elif 5 < saque < 10:\n",
    "            print(string+f', 1 nota de R$5 e {saque-5} notas de R$1')\n",
    "        elif saque < 50:\n",
    "            if saque % 10 == 0:\n",
    "                print(string+f\"e {saque/10} notas de R$10\")\n",
    "            elif saque % 10 < 5:\n",
    "                print(string+f\",{int(saque/10)} notas de R$10 e {saque%10} nota de R$1\")\n",
    "            elif saque % 10 > 5:\n",
    "                print(string+f\",{int(saque/10)} notas de R$10, 1 nota de 5 e {saque%10-5} nota de R$1\")\n",
    "            elif saque % 10 == 5:\n",
    "                print(string+f\",{int(saque/10)} notas de R$10 e 1 nota de R$5\")\n",
    "        else:\n",
    "            if saque == 50:\n",
    "                print(string+'e 1 nota de R$50')\n",
    "            elif saque % 10 == 0:\n",
    "                print(string+f', 1 nota de R$50 e {(saque-50)/10} notas de R$10')\n",
    "            elif saque < 60 and saque % 10 < 5:\n",
    "                print(string+f', 1 nota de R$50 e {(saque - 50) % 10} notas de R$1')\n",
    "            elif saque < 60 and saque % 10 == 5:\n",
    "                print(string+'1 nota de R$50 e 1 nota de R$5')\n",
    "            elif saque < 60 and saque % 10 > 5:\n",
    "                print(string+f', 1 nota de R$50, 1 nota de R$5 e {saque - 55} notas de R$1')\n",
    "            elif saque % 10 < 5:\n",
    "                print(string+f', 1 nota de R$50, {int((saque - 50) / 10)} notas de R$10 e {(saque - 50) % 10} notas de R$1')\n",
    "            elif saque % 10 == 5:\n",
    "                print(string+f', 1 nota de R$50, {int((saque - 50) / 10)} notas de R$10 e 1 nota de R$5')\n",
    "            elif saque % 10 > 5:\n",
    "                print(string+f', 1 nota de R$50 e {int((saque - 50) / 10)} notas de R$10, 1 nota de R$5 e {((saque-50)%10)-5} notas de R$1')\n",
    "\n",
    "                "
   ]
  },
  {
   "cell_type": "markdown",
   "id": "4d3f8095",
   "metadata": {},
   "source": [
    "22 - Faça um Programa que peça um número inteiro e determine se ele é par ou impar. Dica: utilize o operador módulo (resto da divisão)."
   ]
  },
  {
   "cell_type": "code",
   "execution_count": 66,
   "id": "ef2c6bca",
   "metadata": {},
   "outputs": [
    {
     "name": "stdout",
     "output_type": "stream",
     "text": [
      "Informe um número inteiro: 48\n",
      "O número 48 é par!\n"
     ]
    }
   ],
   "source": [
    "num = int(input('Informe um número inteiro: '))\n",
    "if num % 2 == 0:\n",
    "    print(f\"O número {num} é par!\")\n",
    "else: \n",
    "    print(f\"O número {num} é impar!\")"
   ]
  },
  {
   "cell_type": "markdown",
   "id": "bd7ba6db",
   "metadata": {},
   "source": [
    "23 - Faça um Programa que peça um número e informe se o número é inteiro ou decimal. Dica: utilize uma função de arredondamento."
   ]
  },
  {
   "cell_type": "code",
   "execution_count": 70,
   "id": "1dbbed15",
   "metadata": {},
   "outputs": [
    {
     "name": "stdout",
     "output_type": "stream",
     "text": [
      "Informe um número: 8.6\n",
      "O número 8.6 é decimal\n"
     ]
    }
   ],
   "source": [
    "num = float(input('Informe um número: '))\n",
    "\n",
    "if num == int(num):\n",
    "    print(f\"O número {num} é inteiro!\")\n",
    "else:\n",
    "    print(f'O número {num} é decimal')"
   ]
  },
  {
   "cell_type": "markdown",
   "id": "95a23f7c",
   "metadata": {},
   "source": [
    "24 - Faça um Programa que leia 2 números e em seguida pergunte ao usuário qual operação ele deseja realizar. O resultado da operação deve ser acompanhado de uma frase que diga se o número é:\n",
    "* par ou ímpar;\n",
    "* positivo ou negativo;\n",
    "* inteiro ou decimal."
   ]
  },
  {
   "cell_type": "code",
   "execution_count": 80,
   "id": "fef0d121",
   "metadata": {},
   "outputs": [
    {
     "name": "stdout",
     "output_type": "stream",
     "text": [
      "Informe um número: -8\n",
      "Informe outro número: 12.8\n",
      "Selecione a operação\n",
      "[1] -- Soma\n",
      "[2] -- Subtração\n",
      "[3] -- Divisão\n",
      "[4] -- Multiplicação\n",
      "4\n",
      "-8.0 x 12.8 = -102.4\n",
      "O número -102.4 é decimal\n",
      "O número -102.4 é negativo!\n"
     ]
    }
   ],
   "source": [
    "num1 = float(input('Informe um número: '))\n",
    "num2 = float(input('Informe outro número: '))\n",
    "operacao = int(input('Selecione a operação\\n[1] -- Soma\\n[2] -- Subtração\\n[3] -- Divisão\\n[4] -- Multiplicação\\n'))\n",
    "\n",
    "if operacao == 1:\n",
    "    print(f'{num1} + {num2} = {num1+num2}')\n",
    "    resultado = num1+num2\n",
    "elif operacao == 2:\n",
    "    print(f'{num1} - {num2} = {num1-num2}')\n",
    "    resultado = num1-num2\n",
    "elif operacao == 3:\n",
    "    print(f'{num1} / {num2} = {num1/num2}')\n",
    "    resultado = num1/num2\n",
    "elif operacao == 4:\n",
    "    print(f'{num1} x {num2} = {num1*num2}')\n",
    "    resultado = num1*num2\n",
    "else:\n",
    "    print('Operação inválida!')\n",
    "\n",
    "if resultado == int(resultado):\n",
    "    print(f\"O número {resultado} é inteiro!\")\n",
    "    if resultado % 2 == 0:\n",
    "        print(f\"O número {resultado} é par!\")\n",
    "    else: \n",
    "        print(f\"O número {resultado} é impar!\")\n",
    "else:\n",
    "    print(f'O número {resultado} é decimal')\n",
    "if resultado < 0:\n",
    "    print(f'O número {resultado} é negativo!')\n",
    "else:\n",
    "    print(f'O número {resultado} é positivo!')"
   ]
  },
  {
   "cell_type": "markdown",
   "id": "d093e20c",
   "metadata": {},
   "source": [
    "25 - Faça um programa que faça 5 perguntas para uma pessoa sobre um crime. As perguntas são:\n",
    "* \"Telefonou para a vítima?\"\n",
    "* \"Esteve no local do crime?\"\n",
    "* \"Mora perto da vítima?\"\n",
    "* \"Devia para a vítima?\"\n",
    "* \"Já trabalhou com a vítima?\" O programa deve no final emitir uma classificação sobre a participação da pessoa no crime. Se a pessoa responder positivamente a 2 questões ela deve ser classificada como \"Suspeita\", entre 3 e 4 como \"Cúmplice\" e 5 como \"Assassino\". Caso contrário, ele será classificado como \"Inocente\"."
   ]
  },
  {
   "cell_type": "code",
   "execution_count": 84,
   "id": "4c8a358d",
   "metadata": {},
   "outputs": [
    {
     "name": "stdout",
     "output_type": "stream",
     "text": [
      "Telefonou para vítima? [S/N]: S\n",
      "Esteve no local do crime? [S/N]: N\n",
      "Mora perto da vítima? [S/N]: N\n",
      "Devia para a vítima? [S/N]: N\n",
      "Já trabalhou com a vítima? [S/N]: N\n",
      "Classificação: Inocente\n"
     ]
    }
   ],
   "source": [
    "p1 = input('Telefonou para vítima? [S/N]: ')\n",
    "p2 = input('Esteve no local do crime? [S/N]: ')\n",
    "p3 = input('Mora perto da vítima? [S/N]: ')\n",
    "p4 = input('Devia para a vítima? [S/N]: ')\n",
    "p5 = input('Já trabalhou com a vítima? [S/N]: ')\n",
    "\n",
    "count = 0\n",
    "if p1 == 'S': count += 1\n",
    "if p2 == 'S': count += 1\n",
    "if p3 == 'S': count += 1\n",
    "if p4 == 'S': count += 1\n",
    "if p5 == 'S': count += 1\n",
    "\n",
    "if count == 2:\n",
    "    print('Classificação: Suspeita')\n",
    "elif count in [3,4]:\n",
    "    print('Classificação: Cúmplice')\n",
    "elif count == 5:\n",
    "    print('Classificação: Assassino')\n",
    "else: print('Classificação: Inocente')"
   ]
  },
  {
   "cell_type": "markdown",
   "id": "eaf08c32",
   "metadata": {},
   "source": [
    "26 - Um posto está vendendo combustíveis com a seguinte tabela de descontos:\n",
    "* Álcool:\n",
    "* até 20 litros, desconto de 3% por litro\n",
    "* acima de 20 litros, desconto de 5% por litro\n",
    "* Gasolina:\n",
    "* até 20 litros, desconto de 4% por litro\n",
    "* acima de 20 litros, desconto de 6% por litro \n",
    "Escreva um algoritmo que leia o número de litros vendidos, o tipo de combustível (codificado da seguinte forma: A-álcool, G-gasolina), calcule e imprima o valor a ser pago pelo cliente sabendo-se que o preço do litro da gasolina é RS 2,50 o preço do litro do álcool é RS 1,90."
   ]
  },
  {
   "cell_type": "code",
   "execution_count": 3,
   "id": "f03a616a",
   "metadata": {},
   "outputs": [
    {
     "name": "stdout",
     "output_type": "stream",
     "text": [
      "Informe a quantidade de litros vendidos: 15\n",
      "Informe o tipo de gasolina [A-álcool/G-gasolina]: G\n",
      "Valor pago por 15.0 litros de gasolina é 36.0\n"
     ]
    }
   ],
   "source": [
    "litros = float(input('Informe a quantidade de litros vendidos: '))\n",
    "tipoCombus = input('Informe o tipo de gasolina [A-álcool/G-gasolina]: ')\n",
    "\n",
    "valorGas = litros*2.5\n",
    "valorAlc = litros*1.9\n",
    "\n",
    "if tipoCombus == 'A':\n",
    "    if litros <= 20:\n",
    "        valorAlc *= 0.97\n",
    "    else: \n",
    "        valorAlc *= 0.95\n",
    "    print(f'Valor pago por {litros} litros de álcool é {valorAlc}')\n",
    "elif tipoCombus == 'G':\n",
    "    if litros <= 20:\n",
    "        valorGas *= 0.96\n",
    "    else:\n",
    "        valorGas *= 0.94\n",
    "    print(f'Valor pago por {litros} litros de gasolina é {valorGas}')"
   ]
  },
  {
   "cell_type": "markdown",
   "id": "c98c48b1",
   "metadata": {},
   "source": [
    "27 - Uma fruteira está vendendo frutas com a seguinte tabela de preços\n",
    "\n",
    "Se o cliente comprar mais de 8 Kg em frutas ou o valor total da compra ultrapassar RS 25,00, receberá ainda um desconto de 10porcent sobre este total. Escreva um algoritmo para ler a quantidade (em Kg) de morangos e a quantidade (em Kg) de maças adquiridas e escreva o valor a ser pago pelo cliente."
   ]
  },
  {
   "cell_type": "code",
   "execution_count": 5,
   "id": "aa86d8b1",
   "metadata": {},
   "outputs": [
    {
     "name": "stdout",
     "output_type": "stream",
     "text": [
      "Informe a quantidade [em Kg] de maças: 4\n",
      "Informe a quantidade [em Kg] de morangos: 6\n",
      "Pela compra de 4.0Kg de maçãs e 6.0Kg de morango, você pagará 18.36\n"
     ]
    }
   ],
   "source": [
    "maca = float(input('Informe a quantidade [em Kg] de maças: '))\n",
    "morango = float(input('Informe a quantidade [em Kg] de morangos: '))\n",
    "pesoTotal = maca+morango\n",
    "\n",
    "if morango <= 5:\n",
    "    valormorango = 2.5*morango\n",
    "else:\n",
    "    valormorango = 2.2*morango\n",
    "\n",
    "if maca <= 5:\n",
    "    valorMaca = 1.8*maca\n",
    "else:\n",
    "    valorMaca = 1.5*maca\n",
    "\n",
    "valorTotal = valorMaca+valormorango\n",
    "if pesoTotal > 8 or valorTotal > 25:\n",
    "    valorTotal *= 0.9\n",
    "    \n",
    "print(f'Pela compra de {maca}Kg de maçãs e {morango}Kg de morango, você pagará {valorTotal:.2f}')"
   ]
  },
  {
   "cell_type": "markdown",
   "id": "e577d1f9",
   "metadata": {},
   "source": [
    "28 - O Hipermercado Tabajara está com uma promoção de carnes que é imperdível. Confira:\n",
    "\n",
    "Para atender a todos os clientes, cada cliente poderá levar apenas um dos tipos de carne da promoção, porém não há limites para a quantidade de carne por cliente. Se compra for feita no cartão Tabajara o cliente receberá ainda um desconto de 5% sobre o total da compra. Escreva um programa que peça o tipo e a quantidade de carne comprada pelo usuário e gere um cupom fiscal, contendo as informações da compra: tipo e quantidade de carne, preço total, tipo de pagamento, valor do desconto e valor a paga"
   ]
  },
  {
   "cell_type": "code",
   "execution_count": 24,
   "id": "cd7d62bb",
   "metadata": {},
   "outputs": [
    {
     "name": "stdout",
     "output_type": "stream",
     "text": [
      "Informe o tipo de carne [A - Alcatra, P - Picanha, F - Filé Duplo]: P\n",
      "Informe quanto de Picanha você levará em [Kg]: 20\n",
      "Tipo de pagamento [C - Cartão Tabajara, P - Pix, D - Dinheiro]: C\n",
      "*******************Cupom fiscal*******************\n",
      "Tipo de Carne-----------------Picanha\n",
      "Quantidade de Carne-----------20.0Kg\n",
      "Preço Total-------------------R$156.00\n",
      "Tipo de Pagamento-------------Cartão Tabajara\n",
      "Desconto----------------------5%\n",
      "Valor a pagar-----------------148.2\n"
     ]
    }
   ],
   "source": [
    "tipoCarne = input('Informe o tipo de carne [A - Alcatra, P - Picanha, F - Filé Duplo]: ')\n",
    "desconto = 'Sem desconto'\n",
    "\n",
    "if tipoCarne == 'F':\n",
    "    qtd = float(input('Informe quanto de Filé duplo você levará em [Kg]: '))\n",
    "    if qtd <= 5:\n",
    "        preco = qtd*4.9\n",
    "    else:\n",
    "        preco = qtd*5.8\n",
    "    tipoCarne = 'Filé Duplo'\n",
    "elif tipoCarne == 'P':\n",
    "    qtd = float(input('Informe quanto de Picanha você levará em [Kg]: '))\n",
    "    if qtd <= 5:\n",
    "        preco = qtd*6.9\n",
    "    else:\n",
    "        preco = qtd*7.8\n",
    "    tipoCarne = 'Picanha'\n",
    "elif tipoCarne == 'A':\n",
    "    qtd = float(input('Informe quanto de Alcatra você levará em [Kg]: '))\n",
    "    if qtd <= 5:\n",
    "        preco = qtd*5.9\n",
    "    else:\n",
    "        preco = qtd*6.8\n",
    "    tipoCarne = 'Alcatra'\n",
    "\n",
    "cartao = input('Tipo de pagamento [C - Cartão Tabajara, P - Pix, D - Dinheiro]: ')\n",
    "precoDes = preco\n",
    "if cartao == 'C':\n",
    "    precoDes= preco*0.95\n",
    "    cartao = 'Cartão Tabajara'\n",
    "    desconto = '5%'\n",
    "elif cartao == 'P':\n",
    "    cartao = 'Pix'\n",
    "elif cartao == 'D':\n",
    "    cartao = 'Dinheiro'\n",
    "\n",
    "print(f\"{'Cupom fiscal':*^50}\")\n",
    "\n",
    "print(f\"{'Tipo de Carne':-<30}\"+f\"{tipoCarne:}\\n\"+f\"{'Quantidade de Carne':-<30}\"+f\"{qtd}Kg\\n\"+f\"{'Preço Total':-<30}\"+f\"R${preco:.2f}\\n\"\n",
    "      f\"{'Tipo de Pagamento':-<30}\"+f\"{cartao}\\n\"+f\"{'Desconto':-<30}\"+f\"{desconto}\\n\"+f\"{'Valor a pagar':-<30}\"+f\"{precoDes}\")"
   ]
  },
  {
   "cell_type": "code",
   "execution_count": null,
   "id": "ca3eb783",
   "metadata": {},
   "outputs": [],
   "source": []
  }
 ],
 "metadata": {
  "kernelspec": {
   "display_name": "Python 3 (ipykernel)",
   "language": "python",
   "name": "python3"
  },
  "language_info": {
   "codemirror_mode": {
    "name": "ipython",
    "version": 3
   },
   "file_extension": ".py",
   "mimetype": "text/x-python",
   "name": "python",
   "nbconvert_exporter": "python",
   "pygments_lexer": "ipython3",
   "version": "3.9.13"
  }
 },
 "nbformat": 4,
 "nbformat_minor": 5
}
